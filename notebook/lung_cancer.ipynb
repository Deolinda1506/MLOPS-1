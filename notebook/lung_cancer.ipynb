{
  "cells": [
    {
      "cell_type": "markdown",
      "metadata": {
        "colab_type": "text",
        "id": "view-in-github"
      },
      "source": [
        "<a href=\"https://colab.research.google.com/github/Deolinda1506/MLOPS-1/blob/main/notebook/lung_cancer.ipynb\" target=\"_parent\"><img src=\"https://colab.research.google.com/assets/colab-badge.svg\" alt=\"Open In Colab\"/></a>"
      ]
    },
    {
      "cell_type": "markdown",
      "metadata": {},
      "source": [
        "import sys\n",
        "import os\n",
        "import json\n",
        "import numpy as np\n",
        "import matplotlib.pyplot as plt\n",
        "import seaborn as sns\n",
        "\n",
        "# Add src to path\n",
        "sys.path.append('../src')\n",
        "\n",
        "from preprocessing import load_data\n",
        "from model import train_model\n",
        "from tensorflow.keras.models import load_model\n",
        "from sklearn.metrics import classification_report, confusion_matrix, roc_auc_score\n",
        "from sklearn.utils.class_weight import compute_class_weight\n",
        "\n",
        "print(\" All imports successful!\")"
      ]
    },
    {
      "cell_type": "code",
      "execution_count": null,
      "metadata": {
        "id": "1gnOSp-ffCmi"
      },
      "outputs": [],
      "source": [
        "# Configuration for lung cancer dataset\n",
        "train_dir = '../data/train'\n",
        "val_dir = '../data/valid'  \n",
        "test_dir = '../data/test'\n",
        "image_size = (224, 224)  \n",
        "batch_size = 32\n",
        "\n",
        "print(\" Loading lung cancer dataset...\")\n",
        "train_gen, val_gen, test_gen, class_indices = load_data(\n",
        "    train_dir, val_dir, test_dir, image_size, batch_size\n",
        ")\n",
        "\n",
        "print(f\" Data loaded successfully!\")\n",
        "print(f\"  Training samples: {train_gen.samples}\")\n",
        "print(f\"  Validation samples: {val_gen.samples}\")\n",
        "print(f\"  Test samples: {test_gen.samples}\")\n",
        "print(f\"  Classes: {list(class_indices.keys())}\")"
      ]
    },
    {
      "cell_type": "code",
      "execution_count": null,
      "metadata": {},
      "outputs": [],
      "source": [
        "# Analyze class distribution\n",
        "labels = list(class_indices.keys())\n",
        "counts = [train_gen.labels.tolist().count(i) for i in range(len(labels))]\n",
        "\n",
        "print(f\" Class distribution: {dict(zip(labels, counts))}\")\n",
        "\n",
        "# Visualize class distribution\n",
        "plt.figure(figsize=(12, 6))\n",
        "plt.subplot(1, 2, 1)\n",
        "plt.bar(labels, counts, color=['#FF6B6B', '#4ECDC4', '#45B7D1', '#96CEB4'])\n",
        "plt.title(\"Class Distribution (Training Set)\")\n",
        "plt.xlabel(\"Lung Cancer Types\")\n",
        "plt.ylabel(\"Number of Images\")\n",
        "plt.xticks(rotation=45)\n",
        "\n",
        "# Add value labels on bars\n",
        "for i, count in enumerate(counts):\n",
        "    plt.text(i, count + 5, str(count), ha='center', fontweight='bold')\n",
        "\n",
        "plt.tight_layout()\n",
        "plt.show()"
      ]
    },
    {
      "cell_type": "code",
      "execution_count": null,
      "metadata": {},
      "outputs": [],
      "source": [
        "# Display sample images\n",
        "x, y = next(train_gen)\n",
        "plt.figure(figsize=(15, 3))\n",
        "for i in range(6):\n",
        "    plt.subplot(1, 6, i+1)\n",
        "    plt.imshow(x[i])\n",
        "    plt.title(labels[np.argmax(y[i])], fontsize=10)\n",
        "    plt.axis('off')\n",
        "plt.suptitle(\"Sample Lung Cancer Images\", fontsize=14, fontweight='bold')\n",
        "plt.tight_layout()\n",
        "plt.show()"
      ]
    },
    {
      "cell_type": "code",
      "execution_count": null,
      "metadata": {},
      "outputs": [],
      "source": [
        "# Analyze pixel intensity distribution\n",
        "sample_imgs, _ = next(train_gen)\n",
        "all_pixels = sample_imgs.flatten()\n",
        "\n",
        "plt.figure(figsize=(10, 4))\n",
        "plt.subplot(1, 2, 1)\n",
        "plt.hist(all_pixels, bins=50, color='gray', alpha=0.7)\n",
        "plt.title('Pixel Intensity Distribution')\n",
        "plt.xlabel('Pixel Value')\n",
        "plt.ylabel('Frequency')\n",
        "\n",
        "plt.subplot(1, 2, 2)\n",
        "plt.boxplot([sample_imgs[:,:,:,i].flatten() for i in range(3)], \n",
        "           labels=['Red', 'Green', 'Blue'])\n",
        "plt.title('RGB Channel Distribution')\n",
        "plt.ylabel('Pixel Value')\n",
        "\n",
        "plt.tight_layout()\n",
        "plt.show()"
      ]
    },
    {
      "cell_type": "code",
      "execution_count": null,
      "metadata": {},
      "outputs": [],
      "source": [
        "# Calculate class weights for imbalanced dataset\n",
        "labels_numerical = train_gen.classes\n",
        "class_weights = compute_class_weight(\n",
        "    class_weight='balanced', \n",
        "    classes=np.unique(labels_numerical), \n",
        "    y=labels_numerical\n",
        ")\n",
        "class_weight_dict = dict(enumerate(class_weights))\n",
        "\n",
        "print(\" Class weights for imbalanced dataset:\")\n",
        "for i, weight in enumerate(class_weights):\n",
        "    print(f\"  {labels[i]}: {weight:.3f}\")\n",
        "\n",
        "# Visualize class weights\n",
        "plt.figure(figsize=(8, 5))\n",
        "plt.bar(labels, class_weights, color=['#FF6B6B', '#4ECDC4', '#45B7D1', '#96CEB4'])\n",
        "plt.title('Class Weights (Balanced)')\n",
        "plt.xlabel('Lung Cancer Types')\n",
        "plt.ylabel('Weight')\n",
        "plt.xticks(rotation=45)\n",
        "plt.tight_layout()\n",
        "plt.show()\n"
      ]
    },
    {
      "cell_type": "code",
      "execution_count": null,
      "metadata": {},
      "outputs": [],
      "source": [
        "# Train the model\n",
        "input_shape = (224, 224, 3)\n",
        "num_classes = len(class_indices)\n",
        "\n",
        "print(\" Starting model training...\")\n",
        "print(f\"  Input shape: {input_shape}\")\n",
        "print(f\"  Number of classes: {num_classes}\")\n",
        "print(f\"  Using class weights: {class_weight_dict}\")\n",
        "\n",
        "model, history = train_model(\n",
        "    train_gen, val_gen, input_shape, num_classes, \n",
        "    class_weight=class_weight_dict\n",
        ")\n",
        "\n",
        "print(\" Training completed!\")"
      ]
    },
    {
      "cell_type": "code",
      "execution_count": null,
      "metadata": {},
      "outputs": [],
      "source": [
        "# Plot training history\n",
        "plt.figure(figsize=(15, 5))\n",
        "\n",
        "plt.subplot(1, 3, 1)\n",
        "plt.plot(history.history['accuracy'], label='Training Accuracy')\n",
        "plt.plot(history.history['val_accuracy'], label='Validation Accuracy')\n",
        "plt.title('Model Accuracy')\n",
        "plt.xlabel('Epoch')\n",
        "plt.ylabel('Accuracy')\n",
        "plt.legend()\n",
        "plt.grid(True)\n",
        "\n",
        "plt.subplot(1, 3, 2)\n",
        "plt.plot(history.history['loss'], label='Training Loss')\n",
        "plt.plot(history.history['val_loss'], label='Validation Loss')\n",
        "plt.title('Model Loss')\n",
        "plt.xlabel('Epoch')\n",
        "plt.ylabel('Loss')\n",
        "plt.legend()\n",
        "plt.grid(True)\n",
        "\n",
        "plt.subplot(1, 3, 3)\n",
        "plt.plot(history.history['auc'], label='Training AUC')\n",
        "plt.plot(history.history['val_auc'], label='Validation AUC')\n",
        "plt.title('Model AUC')\n",
        "plt.xlabel('Epoch')\n",
        "plt.ylabel('AUC')\n",
        "plt.legend()\n",
        "plt.grid(True)\n",
        "\n",
        "plt.tight_layout()\n",
        "plt.show()"
      ]
    },
    {
      "cell_type": "code",
      "execution_count": null,
      "metadata": {},
      "outputs": [],
      "source": [
        "# Evaluate on test set\n",
        "y_true = test_gen.classes\n",
        "y_pred = model.predict(test_gen)\n",
        "y_pred_labels = np.argmax(y_pred, axis=1)\n",
        "\n",
        "print(\" Classification Report:\")\n",
        "print(classification_report(y_true, y_pred_labels, target_names=labels))\n",
        "\n",
        "# Confusion Matrix\n",
        "cm = confusion_matrix(y_true, y_pred_labels)\n",
        "plt.figure(figsize=(10, 8))\n",
        "sns.heatmap(cm, annot=True, fmt='d', cmap='Blues',\n",
        "            xticklabels=labels, yticklabels=labels)\n",
        "plt.title('Confusion Matrix - Lung Cancer Classification')\n",
        "plt.xlabel('Predicted')\n",
        "plt.ylabel('Actual')\n",
        "plt.tight_layout()\n",
        "plt.show()\n"
      ]
    },
    {
      "cell_type": "code",
      "execution_count": null,
      "metadata": {},
      "outputs": [],
      "source": [
        "# Save training history\n",
        "os.makedirs('../models', exist_ok=True)\n",
        "with open('../models/history.json', 'w') as f:\n",
        "    json.dump(history.history, f)\n",
        "\n",
        "print(\" Results saved to ../models/history.json\")\n",
        "print(\" Lung Cancer Classification Analysis Complete!\""
      ]
    },
    {
      "cell_type": "code",
      "execution_count": null,
      "metadata": {},
      "outputs": [],
      "source": [
        "\n",
        "# Example: Make predictions on a few test images\n",
        "print(\"\\n Making predictions on test images...\")\n",
        "\n",
        "# Get a few test images\n",
        "test_batch, test_labels = next(test_gen)\n",
        "predictions = model.predict(test_batch)\n",
        "\n",
        "# Display predictions\n",
        "plt.figure(figsize=(15, 5))\n",
        "for i in range(5):\n",
        "    plt.subplot(1, 5, i+1)\n",
        "    plt.imshow(test_batch[i])\n",
        "    true_label = labels[np.argmax(test_labels[i])]\n",
        "    pred_label = labels[np.argmax(predictions[i])]\n",
        "    confidence = np.max(predictions[i])\n",
        "    plt.title(f'True: {true_label}\\nPred: {pred_label}\\nConf: {confidence:.2f}', \n",
        "              fontsize=8)\n",
        "    plt.axis('off')\n",
        "plt.suptitle(\"Test Predictions\", fontsize=14, fontweight='bold')\n",
        "plt.tight_layout()\n",
        "plt.show()\n"
      ]
    },
    {
      "cell_type": "code",
      "execution_count": null,
      "metadata": {},
      "outputs": [],
      "source": [
        "# Display model summary\n",
        "print(\" Model Summary:\")\n",
        "model.summary()\n",
        "\n",
        "# Print final metrics\n",
        "final_train_acc = history.history['accuracy'][-1]\n",
        "final_val_acc = history.history['val_accuracy'][-1]\n",
        "final_train_loss = history.history['loss'][-1]\n",
        "final_val_loss = history.history['val_loss'][-1]\n",
        "\n",
        "print(f\"\\n Final Training Metrics:\")\n",
        "print(f\"  Training Accuracy: {final_train_acc:.4f}\")\n",
        "print(f\"  Validation Accuracy: {final_val_acc:.4f}\")\n",
        "print(f\"  Training Loss: {final_train_loss:.4f}\")\n",
        "print(f\"  Validation Loss: {final_val_loss:.4f}\")\n"
      ]
    }
  ],
  "metadata": {
    "colab": {
      "authorship_tag": "ABX9TyOGkKNvvgdHkAgfPDIFEFms",
      "include_colab_link": true,
      "mount_file_id": "1tSz-B3rPQBWv2SogvmKXjic3mXhOC4gf",
      "provenance": []
    },
    "kernelspec": {
      "display_name": "Python 3",
      "name": "python3"
    },
    "language_info": {
      "name": "python"
    }
  },
  "nbformat": 4,
  "nbformat_minor": 0
}
