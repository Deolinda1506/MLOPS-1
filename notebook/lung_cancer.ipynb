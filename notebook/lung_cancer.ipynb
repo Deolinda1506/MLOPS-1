{
  "nbformat": 4,
  "nbformat_minor": 0,
  "metadata": {
    "colab": {
      "provenance": [],
      "mount_file_id": "1tSz-B3rPQBWv2SogvmKXjic3mXhOC4gf",
      "authorship_tag": "ABX9TyOGkKNvvgdHkAgfPDIFEFms",
      "include_colab_link": true
    },
    "kernelspec": {
      "name": "python3",
      "display_name": "Python 3"
    },
    "language_info": {
      "name": "python"
    }
  },
  "cells": [
    {
      "cell_type": "markdown",
      "metadata": {
        "id": "view-in-github",
        "colab_type": "text"
      },
      "source": [
        "<a href=\"https://colab.research.google.com/github/Deolinda1506/MLOPS-1/blob/main/notebook/lung_cancer.ipynb\" target=\"_parent\"><img src=\"https://colab.research.google.com/assets/colab-badge.svg\" alt=\"Open In Colab\"/></a>"
      ]
    },
    {
      "cell_type": "code",
      "source": [],
      "metadata": {
        "id": "1gnOSp-ffCmi"
      },
      "execution_count": null,
      "outputs": []
    }
  ]
}